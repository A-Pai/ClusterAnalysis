{
 "cells": [
  {
   "cell_type": "markdown",
   "metadata": {},
   "source": [
    "## 算法原理\n",
    "\n",
    "令人遗憾的是所有有效的算法都启发式算法-不能保证质量或者说不能评定求解质量，尚未发现系统、综合评价k-medoids算法的文献，各个算法处于自说自话孤立的状态。\n",
    "\n",
    "比较Exhaust(穷举)法、Exchange法、Build-Swap法(自我实现)、fastkmedoids包、ClusterR包、cluster包的k-medoids算法性能\n",
    "\n",
    "\n",
    "- Exhaust法是将枚举尝试所有可能的簇心组合，所以能找到全局最优解\n",
    "  \n",
    "- Lloyd_Similar法：\n",
    "  1. 任意选取k个初始中心点medoids；\n",
    "  2. 按照与medoids最近的原则，将剩余点分配到当前最佳的medoids代表的类中;\n",
    "  3. 在每一类中，计算每个样本点与其他点的距离之和，选取距离之和最小的点作为新的medoids;\n",
    "  4. 重复2-3的过程，直到所有的medoids点不再发生变化，或已达到设定的最大迭代次数;\n",
    "- Exchange法\n",
    "  1. Select K points as the initial representative objects.\n",
    "  2. Assign each point to the cluster with the nearest representative object.\n",
    "  3. Randomly select a nonrepresentative object x.\n",
    "  4.  Compute the total td S of swapping the representative object m with x.\n",
    "  5.  If S < 0, then swap m with x to form the new set of K representative objects.\n",
    "  6. to 3 until Convergence criterion is met."
   ]
  },
  {
   "cell_type": "markdown",
   "metadata": {},
   "source": [
    "### Exhaust法\n",
    "--遍历尝试所有可能的簇心组合，所以能找到全局最优解"
   ]
  },
  {
   "cell_type": "code",
   "execution_count": 3,
   "metadata": {
    "vscode": {
     "languageId": "r"
    }
   },
   "outputs": [],
   "source": [
    "exhaust <- function(dm, k) {\n",
    "  n <- nrow(dm)\n",
    "  ss <- combn(n, k) # 可能的medoids组合\n",
    "  m <- ncol(ss) # 可能的medoids组合个数\n",
    "\n",
    "  td_R <- rep(Inf, m)   #用于记录td\n",
    "  \n",
    "  library(purrr)\n",
    "  pb <- txtProgressBar(style = 3)\n",
    "  for (i in (1:m)) {\n",
    "    s <- ss[, i]\n",
    "    b <- apply((dm[, s]), 1, which.min) # 找到归属\n",
    "    td_R[i] <- sum((1:k) %>% map_dbl(function(x) sum(dm[b == x, s[x]])))\n",
    "    setTxtProgressBar(pb, i / m)\n",
    "  }\n",
    "  id <- which.min(td_R)\n",
    "  return(list(medoids = ss[, id], td = td_R[id]))\n",
    "}"
   ]
  },
  {
   "cell_type": "markdown",
   "metadata": {},
   "source": [
    "### Lloyd_Similar法\n",
    "\n",
    "  1. 任意选取k个初始中心点medoids；\n",
    "  2. 按照与medoids最近的原则，将剩余点分配到当前最佳的medoids代表的类中;\n",
    "  3. 在每一类中，计算每个样本点与其他点的距离之和，选取距离之和最小的点作为新的medoids;\n",
    "  4. 重复2-3的过程，直到所有的medoids点不再发生变化，或已达到设定的最大迭代次数;"
   ]
  },
  {
   "cell_type": "code",
   "execution_count": 28,
   "metadata": {
    "vscode": {
     "languageId": "r"
    }
   },
   "outputs": [],
   "source": [
    "#-------------------Lloyd_Similar法------------------------\n",
    "LS <- function(dm, k = 2, tol = 0.01, seed = 1) {\n",
    "  # dm--距离矩阵\n",
    "  # k--聚类个数\n",
    "  # tol--用于判断收敛的容忍度\n",
    "  # seed-用于随机生成初始簇心集的随机数\n",
    "\n",
    "  n <- nrow(dm) # 数据量\n",
    "  # 行列命名，便于标识各簇成员、簇心\n",
    "  rownames(dm) <- 1:n\n",
    "  colnames(dm) <- 1:n\n",
    "\n",
    "  # ---------medoids随机初始化-------\n",
    "  set.seed(seed)\n",
    "  s_m <- sample(n, k) # 簇心集合\n",
    "\n",
    "  B <- matrix(nc = n, nr = k) # 各簇的元素\n",
    "  td_R <- NULL # 记录td的变化过程\n",
    "\n",
    "  repeat{\n",
    "    #-------固定簇心，调整归属----------------\n",
    "    B <- (dm[, s_m] == apply(dm[, s_m], 1, min))\n",
    "\n",
    "    #-如果某簇只有原簇心，没有别的归属，则返回非正常置，重新初始化簇心-\n",
    "    if (any(colSums(B) == 1)) {\n",
    "      return(FALSE)\n",
    "    }\n",
    "\n",
    "    td <- 0\n",
    "    for (i in 1:k) {\n",
    "      td <- td + sum(dm[B[, i], as.numeric(colnames(B)[i])])\n",
    "    }\n",
    "    td_R <- c(td, td_R)\n",
    "\n",
    "    #-------固定归属，调整簇心----------------\n",
    "    s_m <- NULL\n",
    "    td <- 0\n",
    "    for (i in 1:k) {\n",
    "      s_m <- c(s_m, as.numeric(names(which.min(rowSums(dm[B[, i], B[, i]])))))\n",
    "      colnames(B)[i] <- s_m[i] # 调整簇心\n",
    "      td <- td + sum(dm[B[, i], as.numeric(colnames(B)[i])])\n",
    "    }\n",
    "    td_R <- c(td, td_R)\n",
    "\n",
    "    if (td_R[2] - td_R[1] < tol) break\n",
    "  }\n",
    "  return(list(medoids = sort(s_m), td = td))\n",
    "}"
   ]
  },
  {
   "cell_type": "markdown",
   "metadata": {},
   "source": [
    "### Exchange法\n",
    "\n",
    "--Hennig, C., et al. Handbook of Cluster Analysis. 2015。时间复杂度为*O*(tk(n-k))，其中n为样例数，k为聚类数，t为收敛的循环数，麻烦的是t未知，可能随着n、r而变。\n",
    "\n",
    "1. Initialize: randomly select (without replacement) K of the N data points as the\n",
    "initial medoids (as Steinley, notes in the context of K -means clustering, this type of\n",
    "initialization strategy can be problematic (Steinley, 2003)).\n",
    "2. Assign each observation to the medoid with which it is closest, where closest is\n",
    "based on a speciﬁc distance measure (the most common distance to minimize\n",
    "is the Euclidean distance) and compute the total cost across all observations,\n",
    "where the cost is the sum of the distance of each observation to its associated\n",
    "medoid.\n",
    "3. For each medoid k,for k = 1, .. . , K consider all N - K nonmedoid, o.Swap k and\n",
    "o and recompute the total cost.\n",
    "4. Select the solution with the lowest cost.\n",
    "5. Repeat steps 2–4 until the set of medoids does not change."
   ]
  },
  {
   "cell_type": "code",
   "execution_count": 6,
   "metadata": {
    "vscode": {
     "languageId": "r"
    }
   },
   "outputs": [],
   "source": [
    "exchange <- function(dm, k, seed = 10) {\n",
    "  # --簇心集初始化--\n",
    "  set.seed(seed)\n",
    "  n <- nrow(dm)\n",
    "  s_m <- sample(n, k)\n",
    "\n",
    "  s_mR <- matrix(nc = k, nr = 0) # 用于记录簇心的变迁-Record\n",
    "  td_min <- Inf # 记录最小的td（total deviation）\n",
    "\n",
    "  library(purrr)\n",
    "  repeat {\n",
    "    t <- 0 # 多少次尝试替换，td没有降低\n",
    "\n",
    "    i_break <- FALSE # i循环是否中断\n",
    "    for (i in 1:k) {\n",
    "      for (j in (1:n)[-s_m]) {\n",
    "        s <- s_m # s-准备被替换的簇心集\n",
    "        s[i] <- j # 用j点替换簇心集中的第i点\n",
    "\n",
    "        # --------------------计算簇心集s的td-------------------------\n",
    "        b <- apply(dm[, s], 1, which.min)\n",
    "        td <- sum((1:k) %>% map_dbl(function(x) sum(dm[b == x, s[x]])))\n",
    "\n",
    "        if (td < td_min) {\n",
    "          s_m <- s\n",
    "          td_min <- td\n",
    "          t <- 0 # 重新置为0\n",
    "        } else {\n",
    "          t <- t + 1\n",
    "        }\n",
    "      }\n",
    "    }\n",
    "\n",
    "    if (t >= ((n - k) * k)) {\n",
    "      break # 簇心集不发生一次替换\n",
    "    }\n",
    "  }\n",
    "\n",
    "  return(list(medoids = sort(s_m), td = td_min))\n",
    "}"
   ]
  },
  {
   "cell_type": "code",
   "execution_count": 8,
   "metadata": {
    "vscode": {
     "languageId": "r"
    }
   },
   "outputs": [],
   "source": [
    "# ----------------------数据生成------------------------------\n",
    "n <- 100 # 数据量\n",
    "set.seed(3)\n",
    "x <- rbind(\n",
    "  matrix(rnorm(n, sd = 0.25), ncol = 2),\n",
    "  matrix(rnorm(n, mean = 1, sd = 0.25), ncol = 2)\n",
    ")\n",
    "\n",
    "# 距离方阵\n",
    "dm <- ClusterR::distance_matrix(x, upper = TRUE, diagonal = TRUE)\n",
    "\n",
    "# The distance matrix (lower triangular matrix, column wise storage)\n",
    "dv <- as.vector(dist(x))    #用于fastkmedoids包"
   ]
  },
  {
   "cell_type": "markdown",
   "metadata": {},
   "source": [
    "## k=2\n",
    "\n",
    "可见此时ClusterR包算法未能找到最优解"
   ]
  },
  {
   "cell_type": "markdown",
   "metadata": {},
   "source": [
    "### Exhaust法"
   ]
  },
  {
   "cell_type": "code",
   "execution_count": 50,
   "metadata": {
    "vscode": {
     "languageId": "r"
    }
   },
   "outputs": [
    {
     "name": "stderr",
     "output_type": "stream",
     "text": [
      "Warning message:\n",
      "\"package 'purrr' was built under R version 4.3.3\"\n"
     ]
    },
    {
     "name": "stdout",
     "output_type": "stream",
     "text": [
      "  |======================================================================| 100%\n",
      "Exhaustive Algorithm solutuion\n",
      "medoid_indices: 20 57\n",
      "best_cost: 31.86491"
     ]
    }
   ],
   "source": [
    "k <- 2 # 聚类的个数\n",
    "sl <- exhaust(dm, k)\n",
    "\n",
    "cat(\"\\n\")\n",
    "cat(\"Exhaust Algorithm solutuion\")\n",
    "cat(\"\\n\")\n",
    "cat(\"medoid_indices:\", sl$medoids)\n",
    "cat(\"\\n\")\n",
    "cat(\"best_td:\", sl$td)"
   ]
  },
  {
   "cell_type": "markdown",
   "metadata": {},
   "source": [
    "### Lloyd_Similar法\n",
    "--时间复杂度为*O*(tk(n-k))，其中n为样例数，k为聚类数，t为收敛的循环数，麻烦的是t未知，可能随着n、r而变。"
   ]
  },
  {
   "cell_type": "code",
   "execution_count": 29,
   "metadata": {
    "vscode": {
     "languageId": "r"
    }
   },
   "outputs": [
    {
     "name": "stdout",
     "output_type": "stream",
     "text": [
      "  |======================================================================| 100%\n",
      "best solutions:\n",
      "       medoid1 medoid2     cost\n",
      "  [1,]      20      57 31.86491\n",
      "  [2,]      20      57 31.86491\n",
      "  [3,]      20      57 31.86491\n",
      "  [4,]      20      57 31.86491\n",
      "  [5,]      20      57 31.86491\n",
      "  [6,]      20      57 31.86491\n",
      "  [7,]      20      57 31.86491\n",
      "  [8,]      20      57 31.86491\n",
      "  [9,]      20      57 31.86491\n",
      " [10,]      20      57 31.86491\n",
      " [11,]      20      57 31.86491\n",
      " [12,]      20      57 31.86491\n",
      " [13,]      20      57 31.86491\n",
      " [14,]      20      57 31.86491\n",
      " [15,]      20      57 31.86491\n",
      " [16,]      20      57 31.86491\n",
      " [17,]      20      57 31.86491\n",
      " [18,]      20      57 31.86491\n",
      " [19,]      20      57 31.86491\n",
      " [20,]      20      57 31.86491\n",
      " [21,]      20      57 31.86491\n",
      " [22,]      20      57 31.86491\n",
      " [23,]      20      57 31.86491\n",
      " [24,]      20      57 31.86491\n",
      " [25,]      20      57 31.86491\n",
      " [26,]      20      57 31.86491\n",
      " [27,]      20      57 31.86491\n",
      " [28,]      20      57 31.86491\n",
      " [29,]      20      57 31.86491\n",
      " [30,]      20      57 31.86491\n",
      " [31,]      20      57 31.86491\n",
      " [32,]      20      57 31.86491\n",
      " [33,]      20      57 31.86491\n",
      " [34,]      20      57 31.86491\n",
      " [35,]      20      57 31.86491\n",
      " [36,]      20      57 31.86491\n",
      " [37,]      20      57 31.86491\n",
      " [38,]      20      57 31.86491\n",
      " [39,]      20      57 31.86491\n",
      " [40,]      20      57 31.86491\n",
      " [41,]      20      57 31.86491\n",
      " [42,]      20      57 31.86491\n",
      " [43,]      20      57 31.86491\n",
      " [44,]      20      57 31.86491\n",
      " [45,]      20      57 31.86491\n",
      " [46,]      20      57 31.86491\n",
      " [47,]      20      57 31.86491\n",
      " [48,]      20      57 31.86491\n",
      " [49,]      20      57 31.86491\n",
      " [50,]      20      57 31.86491\n",
      " [51,]      20      57 31.86491\n",
      " [52,]      20      57 31.86491\n",
      " [53,]      20      57 31.86491\n",
      " [54,]      20      57 31.86491\n",
      " [55,]      20      57 31.86491\n",
      " [56,]      20      57 31.86491\n",
      " [57,]      20      57 31.86491\n",
      " [58,]      20      57 31.86491\n",
      " [59,]      20      57 31.86491\n",
      " [60,]      20      57 31.86491\n",
      " [61,]      20      57 31.86491\n",
      " [62,]      20      57 31.86491\n",
      " [63,]      20      57 31.86491\n",
      " [64,]      20      57 31.86491\n",
      " [65,]      20      57 31.86491\n",
      " [66,]      20      57 31.86491\n",
      " [67,]      20      57 31.86491\n",
      " [68,]      20      57 31.86491\n",
      " [69,]      20      57 31.86491\n",
      " [70,]      20      57 31.86491\n",
      " [71,]      20      57 31.86491\n",
      " [72,]      20      57 31.86491\n",
      " [73,]      20      57 31.86491\n",
      " [74,]      20      57 31.86491\n",
      " [75,]      20      57 31.86491\n",
      " [76,]      20      57 31.86491\n",
      " [77,]      20      57 31.86491\n",
      " [78,]      20      57 31.86491\n",
      " [79,]      20      57 31.86491\n",
      " [80,]      20      57 31.86491\n",
      " [81,]      20      57 31.86491\n",
      " [82,]      20      57 31.86491\n",
      " [83,]      20      57 31.86491\n",
      " [84,]      20      57 31.86491\n",
      " [85,]      20      57 31.86491\n",
      " [86,]      20      57 31.86491\n",
      " [87,]      20      57 31.86491\n",
      " [88,]      20      57 31.86491\n",
      " [89,]      20      57 31.86491\n",
      " [90,]      20      57 31.86491\n",
      " [91,]      20      57 31.86491\n",
      " [92,]      20      57 31.86491\n",
      " [93,]      20      57 31.86491\n",
      " [94,]      20      57 31.86491\n",
      " [95,]      20      57 31.86491\n",
      " [96,]      20      57 31.86491\n",
      " [97,]      20      57 31.86491\n",
      " [98,]      20      57 31.86491\n",
      " [99,]      20      57 31.86491\n",
      "[100,]      20      57 31.86491\n",
      "\n",
      "hit probability: 1"
     ]
    }
   ],
   "source": [
    "k <- 2 # 聚类个数\n",
    "t <- 100 # 试验次数\n",
    "\n",
    "rc <- matrix(nc = k + 1, nr = t) # 用于记录簇心及簇心距离总和\n",
    "colnames(rc)=c(paste0(\"medoid\",1:k),\"td\")\n",
    "pb <- txtProgressBar(style = 3)\n",
    "for (seed in 1:t) {\n",
    "  rs <- LS(dm, k, seed)\n",
    "  rc[seed, 1:k] <- sort(rs$medoids)\n",
    "  rc[seed, k + 1] <- sort(rs$td)\n",
    "  setTxtProgressBar(pb, seed / t)\n",
    "}\n",
    "\n",
    "cat(\"\\n\")\n",
    "cat(\"best solutions:\")\n",
    "cat(\"\\n\")\n",
    "print(rc[rc[, k + 1] == min(rc[, k + 1]), ])   #最优解\n",
    "\n",
    "bc <- table(rc[, k + 1])[1]\n",
    "cat(\"\\n\")\n",
    "cat(paste0(\"hit probability: \", bc / t))     #最优解命中率"
   ]
  },
  {
   "cell_type": "markdown",
   "metadata": {},
   "source": [
    "### Exchange法"
   ]
  },
  {
   "cell_type": "code",
   "execution_count": 22,
   "metadata": {
    "vscode": {
     "languageId": "r"
    }
   },
   "outputs": [
    {
     "name": "stdout",
     "output_type": "stream",
     "text": [
      "  |======================================================================| 100%\n",
      "\n",
      "best medoids: (20, 57)\n",
      "best td: 31.8649135490429\n",
      "hit probability: 1"
     ]
    },
    {
     "data": {
      "image/png": "[encoded data removed]",
      "text/plain": [
       "Plot with title \"Distribution of Solution\""
      ]
     },
     "metadata": {
      "image/png": {
       "height": 420,
       "width": 420
      }
     },
     "output_type": "display_data"
    }
   ],
   "source": [
    "k <- 2 # 聚类个数\n",
    "T <- 100 # 试验次数\n",
    "rc <- matrix(nr = T, nc = k + 1)\n",
    "\n",
    "pb <- txtProgressBar(style = 3)\n",
    "for (seed in 1:T) {\n",
    "  sl <- exchange(dm, k, seed) # sl-solution\n",
    "\n",
    "  rc[seed, 1] <- sl$td\n",
    "  rc[seed, 2:(k + 1)] <- sl$medoids\n",
    "  setTxtProgressBar(pb, seed / T)\n",
    "}\n",
    "\n",
    "id <- which.min(rc[, 1])\n",
    "cat(\"\\n\")\n",
    "bc <- table(rc[, 1])[1]\n",
    "cat(\"\\n\")\n",
    "cat(paste0(\"best medoids: (\", toString(rc[id, 2:(k + 1)]), \")\"))\n",
    "cat(\"\\n\")\n",
    "cat(paste0(\"best td: \", names(bc)))\n",
    "cat(\"\\n\")\n",
    "cat(paste0(\"hit probability: \", bc / T))     #最优解命中率\n",
    "hist(rc[, 1] ,100, labels = TRUE,xlab = \"td\", main = \"Distribution of Solution\")"
   ]
  },
  {
   "cell_type": "markdown",
   "metadata": {},
   "source": [
    "### Build-Swap法"
   ]
  },
  {
   "cell_type": "code",
   "execution_count": null,
   "metadata": {
    "vscode": {
     "languageId": "r"
    }
   },
   "outputs": [
    {
     "name": "stdout",
     "output_type": "stream",
     "text": [
      "pamBS Algorithm solutuion\n",
      "medoid_indices: 20 57\n",
      "best_dissimilarity: 31.86491"
     ]
    }
   ],
   "source": [
    "m <- 2  #聚类的个数\n",
    "sseR <- NULL\n",
    "\n",
    "# build phase\n",
    "s <- which.min(rowSums(dm))\n",
    "while (length(s) < m) {\n",
    "  ri <- matrix(nc = 2, nr = 0) # 用于记录点i的情况\n",
    "  for (i in (1:n)[-s]) {\n",
    "    gi <- 0\n",
    "    for (j in (1:n)[-c(s, i)]) {\n",
    "      gi <- gi + max(min(dm[j, s]) - dm[j, i], 0)\n",
    "    }\n",
    "    ri <- rbind(ri, matrix(c(i, gi), nc = 2, byrow = TRUE))\n",
    "  }\n",
    "  s <- c(s, ri[which.max(ri[, 2]), 1])\n",
    "}\n",
    "sse <- 0\n",
    "# 计算簇心集s的sse\n",
    "for (u in 1:m) {\n",
    "  h <- s[-u]\n",
    "  b <- TRUE # 到u类最近的点\n",
    "  for (v in h) {\n",
    "    b <- (b & (dm[, s[u]] < dm[, v]))\n",
    "  }\n",
    "  sse <- sse + sum(dm[b, s[u]])\n",
    "}\n",
    "sseR <- c(sseR, sse)\n",
    "\n",
    "# swap phase\n",
    "repeat{\n",
    "  T <- matrix(0, nc = n, nr = n)\n",
    "  for (i in s) {\n",
    "    for (h in (1:n)[-s]) {\n",
    "      for (j in (1:n)[-c(s, h)]) {\n",
    "        if (dm[j, i] > min(dm[j, s])) {\n",
    "          if (dm[j, h] < min(dm[j, s])) {\n",
    "            k <- dm[j, h] - min(dm[j, s])\n",
    "          } else {\n",
    "            k <- 0\n",
    "          }\n",
    "        } else {\n",
    "          if (dm[j, h] < min(dm[j, s[-i]])) {\n",
    "            k <- dm[j, h] - min(dm[j, s])\n",
    "          } else {\n",
    "            k <- dm[j, h] - min(dm[j, s[-i]])\n",
    "          }\n",
    "        }\n",
    "        T[i, h] <- T[i, h] + k\n",
    "      }\n",
    "    }\n",
    "  }\n",
    "\n",
    "  if (min(T) >= 0) {\n",
    "    break\n",
    "  } else {\n",
    "    id <- which(T == min(T), arr.ind = TRUE)\n",
    "    s[s == id[1]] <- id[2]\n",
    "    sse <- 0\n",
    "    # 计算簇心集s的sse\n",
    "    for (u in 1:m) {\n",
    "      h <- s[-u]\n",
    "      b <- TRUE # 到u类最近的点\n",
    "      for (v in h) {\n",
    "        b <- (b & (dm[, s[u]] < dm[, v]))\n",
    "      }\n",
    "      sse <- sse + sum(dm[b, s[u]])\n",
    "    }\n",
    "    sseR <- c(sseR, sse)\n",
    "  }\n",
    "}\n",
    "\n",
    "cat(\"pamBS Algorithm solutuion\")\n",
    "cat(\"\\n\")\n",
    "cat(\"medoid_indices:\", sort(s))\n",
    "cat(\"\\n\")\n",
    "cat(\"best_td:\", sse)"
   ]
  },
  {
   "cell_type": "markdown",
   "metadata": {},
   "source": [
    "### ClusterR包"
   ]
  },
  {
   "cell_type": "code",
   "execution_count": null,
   "metadata": {
    "vscode": {
     "languageId": "r"
    }
   },
   "outputs": [
    {
     "name": "stderr",
     "output_type": "stream",
     "text": [
      "Warning message:\n",
      "\"\u001b[1m\u001b[22mThe `seed` argument of `Cluster_Medoids()` is deprecated as of ClusterR 1.2.6.\n",
      "\u001b[36mℹ\u001b[39m The 'seed' parameter will be removed in version 1.4.0\"\n"
     ]
    },
    {
     "name": "stdout",
     "output_type": "stream",
     "text": [
      "package ClusterR solutuion\n",
      "medoid_indices: 25 57\n",
      "best_dissimilarity: 31.97467"
     ]
    }
   ],
   "source": [
    "library(ClusterR)\n",
    "\n",
    "k <- 2   #聚类的个数\n",
    "cm <- Cluster_Medoids(x, k, distance_metric = \"euclidean\")\n",
    "\n",
    "cat(\"package ClusterR solutuion\")\n",
    "cat(\"\\n\")\n",
    "cat(\"medoid_indices:\", sort(cm$medoid_indices))\n",
    "cat(\"\\n\")\n",
    "cat(\"best_td:\", cm$best_td)"
   ]
  },
  {
   "cell_type": "markdown",
   "metadata": {},
   "source": [
    "### cluster包"
   ]
  },
  {
   "cell_type": "code",
   "execution_count": null,
   "metadata": {
    "vscode": {
     "languageId": "r"
    }
   },
   "outputs": [
    {
     "name": "stderr",
     "output_type": "stream",
     "text": [
      "Warning message:\n",
      "\"package 'cluster' was built under R version 4.3.3\"\n"
     ]
    },
    {
     "name": "stdout",
     "output_type": "stream",
     "text": [
      "package cluster solutuion\n",
      "medoid_indices: 20 57\n",
      "best_dissimilarity: 31.86491"
     ]
    }
   ],
   "source": [
    "library(cluster)\n",
    "\n",
    "k <- 2   #聚类的个数\n",
    "pm <- pam(x, k, metric = \"euclidean\")\n",
    "\n",
    "cat(\"package cluster solutuion\")\n",
    "cat(\"\\n\")\n",
    "cat(\"medoid_indices:\", sort(pm$id.med))\n",
    "cat(\"\\n\")\n",
    "cat(\"best_td:\", n * pm$objective[2])"
   ]
  },
  {
   "cell_type": "markdown",
   "metadata": {},
   "source": [
    "### fastkmedoids包"
   ]
  },
  {
   "cell_type": "code",
   "execution_count": 40,
   "metadata": {
    "vscode": {
     "languageId": "r"
    }
   },
   "outputs": [
    {
     "name": "stdout",
     "output_type": "stream",
     "text": [
      "pam(package fastkmedoids) solutuion:\n"
     ]
    },
    {
     "name": "stdout",
     "output_type": "stream",
     "text": [
      "medoid_indices: 20 57\n",
      "best_cost: 31.86491"
     ]
    }
   ],
   "source": [
    "library(fastkmedoids)\n",
    "pm <- pam(dv,100,2)\n",
    "\n",
    "cat(\"pam(package fastkmedoids) solutuion:\")\n",
    "cat(\"\\n\")\n",
    "cat(\"medoid_indices:\", sort(pm@medoids)+1)\n",
    "cat(\"\\n\")\n",
    "cat(\"best_td:\", pm@td)"
   ]
  },
  {
   "cell_type": "code",
   "execution_count": 41,
   "metadata": {
    "vscode": {
     "languageId": "r"
    }
   },
   "outputs": [
    {
     "name": "stdout",
     "output_type": "stream",
     "text": [
      "fastpam(package fastkmedoids) solutuion:\n",
      "medoid_indices: 20 57\n",
      "best_cost: 31.86491"
     ]
    }
   ],
   "source": [
    "library(fastkmedoids)\n",
    "fp <- fastpam(dv,100,2)\n",
    "\n",
    "cat(\"fastpam(package fastkmedoids) solutuion:\")\n",
    "cat(\"\\n\")\n",
    "cat(\"medoid_indices:\", sort(fp@medoids)+1)\n",
    "cat(\"\\n\")\n",
    "cat(\"best_td:\", fp@td)"
   ]
  },
  {
   "cell_type": "markdown",
   "metadata": {},
   "source": [
    "## k=3\n",
    "\n",
    "可见此时ClusterR包、cluster包算法未能找到最优解"
   ]
  },
  {
   "cell_type": "code",
   "execution_count": null,
   "metadata": {
    "vscode": {
     "languageId": "r"
    }
   },
   "outputs": [],
   "source": [
    "# 数据生成\n",
    "n <- 100 # 数据量\n",
    "set.seed(3)\n",
    "x <- rbind(\n",
    "  matrix(rnorm(n, sd = 0.25), ncol = 2),\n",
    "  matrix(rnorm(n, mean = 1, sd = 0.25), ncol = 2)\n",
    ")\n",
    "# 距离方阵\n",
    "dm <- ClusterR::distance_matrix(x, upper = TRUE, diagonal = TRUE)"
   ]
  },
  {
   "cell_type": "markdown",
   "metadata": {},
   "source": [
    "### Exhaust法"
   ]
  },
  {
   "cell_type": "code",
   "execution_count": 4,
   "metadata": {
    "vscode": {
     "languageId": "r"
    }
   },
   "outputs": [
    {
     "name": "stderr",
     "output_type": "stream",
     "text": [
      "Warning message:\n",
      "\"package 'purrr' was built under R version 4.3.3\"\n"
     ]
    },
    {
     "name": "stdout",
     "output_type": "stream",
     "text": [
      "  |======================================================================| 100%\n",
      "Exhaustive Algorithm solutuion\n",
      "medoid_indices: 20 61 67\n",
      "best_cost: 27.28273"
     ]
    }
   ],
   "source": [
    "k <- 3 # 聚类的个数\n",
    "sl <- exhaust(dm, k)\n",
    "\n",
    "cat(\"\\n\")\n",
    "cat(\"Exhaust Algorithm solutuion\")\n",
    "cat(\"\\n\")\n",
    "cat(\"medoid_indices:\", sl$medoids)\n",
    "cat(\"\\n\")\n",
    "cat(\"best_td:\", sl$td)"
   ]
  },
  {
   "cell_type": "markdown",
   "metadata": {},
   "source": [
    "### Lloyd_Similar法"
   ]
  },
  {
   "cell_type": "code",
   "execution_count": 31,
   "metadata": {
    "vscode": {
     "languageId": "r"
    }
   },
   "outputs": [
    {
     "name": "stdout",
     "output_type": "stream",
     "text": [
      "  |======================================================================| 100%\n",
      "best solutions:\n",
      "      medoid1 medoid2 medoid3     cost\n",
      " [1,]       6      26      57 28.15211\n",
      " [2,]       6      26      57 28.15211\n",
      " [3,]       6      26      57 28.15211\n",
      " [4,]       6      26      57 28.15211\n",
      " [5,]       6      26      57 28.15211\n",
      " [6,]       6      26      57 28.15211\n",
      " [7,]       6      26      57 28.15211\n",
      " [8,]       6      26      57 28.15211\n",
      " [9,]       6      26      57 28.15211\n",
      "\n",
      "hit probability: 0.09"
     ]
    }
   ],
   "source": [
    "k <- 3 # 聚类个数\n",
    "t <- 100 # 试验次数\n",
    "\n",
    "rc <- matrix(nc = k + 1, nr = t) # 用于记录簇心及簇心距离总和\n",
    "colnames(rc)=c(paste0(\"medoid\",1:k),\"td\")\n",
    "pb <- txtProgressBar(style = 3)\n",
    "for (seed in 1:t) {\n",
    "  rs <- LS(dm, k, seed)\n",
    "  rc[seed, 1:k] <- sort(rs$medoids)\n",
    "  rc[seed, k + 1] <- sort(rs$td)\n",
    "  setTxtProgressBar(pb, seed / t)\n",
    "}\n",
    "\n",
    "cat(\"\\n\")\n",
    "cat(\"best solutions:\")\n",
    "cat(\"\\n\")\n",
    "print(rc[rc[, k + 1] == min(rc[, k + 1]), ])   #最优解\n",
    "\n",
    "bc <- table(rc[, k + 1])[1]\n",
    "cat(\"\\n\")\n",
    "cat(paste0(\"hit probability: \", bc / t))     #最优解命中率"
   ]
  },
  {
   "cell_type": "markdown",
   "metadata": {},
   "source": [
    "### Exchange法"
   ]
  },
  {
   "cell_type": "code",
   "execution_count": 19,
   "metadata": {
    "vscode": {
     "languageId": "r"
    }
   },
   "outputs": [
    {
     "name": "stdout",
     "output_type": "stream",
     "text": [
      "  |======================================================================| 100%\n",
      "\n",
      "best medoids: (20, 61, 67)\n",
      "best td: 27.2827344194388\n",
      "hit probability: 0.16"
     ]
    },
    {
     "data": {
      "image/png": "[encoded data removed]",
      "text/plain": [
       "Plot with title \"Distribution of Solution\""
      ]
     },
     "metadata": {
      "image/png": {
       "height": 420,
       "width": 420
      }
     },
     "output_type": "display_data"
    }
   ],
   "source": [
    "k <- 3 # 聚类个数\n",
    "T <- 100 # 试验次数\n",
    "td_r <- vector(length = T) # 用于记录每次试验的结果\n",
    "rc <- matrix(nr = T, nc = k + 1)\n",
    "\n",
    "pb <- txtProgressBar(style = 3)\n",
    "for (seed in 1:T) {\n",
    "  sl <- exchange(dm, k, seed) # sl-solution\n",
    "\n",
    "  rc[seed, 1] <- sl$td\n",
    "  rc[seed, 2:(k + 1)] <- sl$medoids\n",
    "  setTxtProgressBar(pb, seed / T)\n",
    "}\n",
    "\n",
    "id <- which.min(rc[, 1])\n",
    "cat(\"\\n\")\n",
    "bc <- table(rc[, 1])[1]\n",
    "cat(\"\\n\")\n",
    "cat(paste0(\"best medoids: (\", toString(rc[id, 2:(k + 1)]), \")\"))\n",
    "cat(\"\\n\")\n",
    "cat(paste0(\"best td: \", names(bc)))\n",
    "cat(\"\\n\")\n",
    "cat(paste0(\"hit probability: \", bc / T))     #最优解命中率\n",
    "hist(rc[, 1] ,100, labels = TRUE,xlab = \"td\", main = \"Distribution of Solution\")"
   ]
  },
  {
   "cell_type": "markdown",
   "metadata": {},
   "source": [
    "### Build-Swap法"
   ]
  },
  {
   "cell_type": "code",
   "execution_count": null,
   "metadata": {
    "vscode": {
     "languageId": "r"
    }
   },
   "outputs": [
    {
     "name": "stdout",
     "output_type": "stream",
     "text": [
      "pamBS Algorithm solutuion\n",
      "medoid_indices: 20 61 67\n",
      "best_dissimilarity: 27.28273"
     ]
    }
   ],
   "source": [
    "m <- 3  #聚类的个数\n",
    "sseR <- NULL\n",
    "\n",
    "# build phase\n",
    "s <- which.min(rowSums(dm))\n",
    "while (length(s) < m) {\n",
    "  ri <- matrix(nc = 2, nr = 0) # 用于记录点i的情况\n",
    "  for (i in (1:n)[-s]) {\n",
    "    gi <- 0\n",
    "    for (j in (1:n)[-c(s, i)]) {\n",
    "      gi <- gi + max(min(dm[j, s]) - dm[j, i], 0)\n",
    "    }\n",
    "    ri <- rbind(ri, matrix(c(i, gi), nc = 2, byrow = TRUE))\n",
    "  }\n",
    "  s <- c(s, ri[which.max(ri[, 2]), 1])\n",
    "}\n",
    "sse <- 0\n",
    "# 计算簇心集s的sse\n",
    "for (u in 1:m) {\n",
    "  h <- s[-u]\n",
    "  b <- TRUE # 到u类最近的点\n",
    "  for (v in h) {\n",
    "    b <- (b & (dm[, s[u]] < dm[, v]))\n",
    "  }\n",
    "  sse <- sse + sum(dm[b, s[u]])\n",
    "}\n",
    "sseR <- c(sseR, sse)\n",
    "\n",
    "# swap phase\n",
    "repeat{\n",
    "  T <- matrix(0, nc = n, nr = n)\n",
    "  for (i in s) {\n",
    "    for (h in (1:n)[-s]) {\n",
    "      for (j in (1:n)[-c(s, h)]) {\n",
    "        if (dm[j, i] > min(dm[j, s])) {\n",
    "          if (dm[j, h] < min(dm[j, s])) {\n",
    "            k <- dm[j, h] - min(dm[j, s])\n",
    "          } else {\n",
    "            k <- 0\n",
    "          }\n",
    "        } else {\n",
    "          if (dm[j, h] < min(dm[j, s[-i]])) {\n",
    "            k <- dm[j, h] - min(dm[j, s])\n",
    "          } else {\n",
    "            k <- dm[j, h] - min(dm[j, s[-i]])\n",
    "          }\n",
    "        }\n",
    "        T[i, h] <- T[i, h] + k\n",
    "      }\n",
    "    }\n",
    "  }\n",
    "\n",
    "  if (min(T) >= 0) {\n",
    "    break\n",
    "  } else {\n",
    "    id <- which(T == min(T), arr.ind = TRUE)\n",
    "    s[s == id[1]] <- id[2]\n",
    "    sse <- 0\n",
    "    # 计算簇心集s的sse\n",
    "    for (u in 1:m) {\n",
    "      h <- s[-u]\n",
    "      b <- TRUE # 到u类最近的点\n",
    "      for (v in h) {\n",
    "        b <- (b & (dm[, s[u]] < dm[, v]))\n",
    "      }\n",
    "      sse <- sse + sum(dm[b, s[u]])\n",
    "    }\n",
    "    sseR <- c(sseR, sse)\n",
    "  }\n",
    "}\n",
    "\n",
    "cat(\"pamBS Algorithm solutuion\")\n",
    "cat(\"\\n\")\n",
    "cat(\"medoid_indices:\", sort(s))\n",
    "cat(\"\\n\")\n",
    "cat(\"best_td:\", sse)"
   ]
  },
  {
   "cell_type": "markdown",
   "metadata": {},
   "source": [
    "### ClusterR包"
   ]
  },
  {
   "cell_type": "code",
   "execution_count": 9,
   "metadata": {
    "vscode": {
     "languageId": "r"
    }
   },
   "outputs": [
    {
     "name": "stdout",
     "output_type": "stream",
     "text": [
      "  |======================================================================| 100%\n",
      "Exchange Algorithm solutuion\n",
      "medoids: 11 45 57\n",
      "sse: 27.72188"
     ]
    },
    {
     "data": {
      "image/png": "[encoded data removed]",
      "text/plain": [
       "Plot with title \"Distribution of sse\""
      ]
     },
     "metadata": {
      "image/png": {
       "height": 420,
       "width": 420
      }
     },
     "output_type": "display_data"
    }
   ],
   "source": [
    "library(ClusterR)\n",
    "\n",
    "\n",
    "k <- 3 # 聚类的个数\n",
    "n <- 1000 # 求解尝试的次数\n",
    "\n",
    "rec <- matrix(ncol = k + 1, nrow = n)\n",
    "\n",
    "pb <- txtProgressBar(style = 3)\n",
    "for (i in 1:n) {\n",
    "  res <- Cluster_Medoids(x, k, seed = i)\n",
    "  rec[i, ] <- c(sort(res$medoid_indices), res$best_td)\n",
    "  setTxtProgressBar(pb, i / n)\n",
    "}\n",
    "\n",
    "opt <- which.min(rec[, k + 1])\n",
    "\n",
    "cat(\"\\n\")\n",
    "cat(\"Exchange Algorithm solutuion\")\n",
    "cat(\"\\n\")\n",
    "cat(\"medoids:\", rec[opt, 1:k])\n",
    "cat(\"\\n\")\n",
    "cat(\"sse:\", rec[opt, k + 1])\n",
    "\n",
    "hist(rec[, k + 1], main = \"Distribution of sse\", xlab = \"sse\")"
   ]
  },
  {
   "cell_type": "markdown",
   "metadata": {},
   "source": [
    "### cluster包"
   ]
  },
  {
   "cell_type": "code",
   "execution_count": null,
   "metadata": {
    "vscode": {
     "languageId": "r"
    }
   },
   "outputs": [
    {
     "name": "stdout",
     "output_type": "stream",
     "text": [
      "package cluster solutuion\n",
      "medoid_indices: 11 45 57\n",
      "best_dissimilarity: 27.72188"
     ]
    }
   ],
   "source": [
    "library(cluster)\n",
    "\n",
    "k <- 3   #聚类的个数\n",
    "pm <- pam(x, k, metric = \"euclidean\")\n",
    "\n",
    "cat(\"package cluster solutuion\")\n",
    "cat(\"\\n\")\n",
    "cat(\"medoid_indices:\", sort(pm$id.med))\n",
    "cat(\"\\n\")\n",
    "cat(\"best_td:\", n * pm$objective[2])"
   ]
  },
  {
   "cell_type": "markdown",
   "metadata": {},
   "source": [
    "### fastkmedoids包"
   ]
  },
  {
   "cell_type": "code",
   "execution_count": 42,
   "metadata": {
    "vscode": {
     "languageId": "r"
    }
   },
   "outputs": [
    {
     "name": "stdout",
     "output_type": "stream",
     "text": [
      "pam(package fastkmedoids) solutuion:\n",
      "medoid_indices: 11 45 57\n",
      "best_cost: 27.72188"
     ]
    }
   ],
   "source": [
    "library(fastkmedoids)\n",
    "pm <- pam(dv,100,3)\n",
    "\n",
    "cat(\"pam(package fastkmedoids) solutuion:\")\n",
    "cat(\"\\n\")\n",
    "cat(\"medoid_indices:\", sort(pm@medoids)+1)\n",
    "cat(\"\\n\")\n",
    "cat(\"best_td:\", pm@td)"
   ]
  },
  {
   "cell_type": "code",
   "execution_count": 43,
   "metadata": {
    "vscode": {
     "languageId": "r"
    }
   },
   "outputs": [
    {
     "name": "stdout",
     "output_type": "stream",
     "text": [
      "fastpam(package fastkmedoids) solutuion:\n",
      "medoid_indices: 11 45 57\n",
      "best_cost: 27.72188"
     ]
    }
   ],
   "source": [
    "library(fastkmedoids)\n",
    "fp <- fastpam(dv,100,3)\n",
    "\n",
    "cat(\"fastpam(package fastkmedoids) solutuion:\")\n",
    "cat(\"\\n\")\n",
    "cat(\"medoid_indices:\", sort(fp@medoids)+1)\n",
    "cat(\"\\n\")\n",
    "cat(\"best_td:\", fp@td)"
   ]
  },
  {
   "cell_type": "markdown",
   "metadata": {},
   "source": [
    "## k=4\n",
    "\n",
    "可见此时ClusterR包、cluster包算法未能找到最优解"
   ]
  },
  {
   "cell_type": "code",
   "execution_count": null,
   "metadata": {
    "vscode": {
     "languageId": "r"
    }
   },
   "outputs": [],
   "source": [
    "library(ClusterR)\n",
    "\n",
    "# 数据生成\n",
    "n <- 100 # 数据量\n",
    "set.seed(3)\n",
    "x <- rbind(\n",
    "  matrix(rnorm(n, sd = 0.25), ncol = 2),\n",
    "  matrix(rnorm(n, mean = 1, sd = 0.25), ncol = 2)\n",
    ")\n",
    "# 距离方阵\n",
    "dm <- distance_matrix(x, upper = TRUE, diagonal = TRUE)"
   ]
  },
  {
   "cell_type": "markdown",
   "metadata": {},
   "source": [
    "### Exhaust法"
   ]
  },
  {
   "cell_type": "code",
   "execution_count": 23,
   "metadata": {
    "vscode": {
     "languageId": "r"
    }
   },
   "outputs": [
    {
     "name": "stdout",
     "output_type": "stream",
     "text": [
      "  |======================================================================| 100%\n",
      "Exhaust Algorithm solutuion\n",
      "medoid_indices: 11 45 61 67\n",
      "best_td:"
     ]
    }
   ],
   "source": [
    "k <- 4 # 聚类的个数\n",
    "sl <- exhaust(dm, k)\n",
    "\n",
    "cat(\"\\n\")\n",
    "cat(\"Exhaust Algorithm solutuion\")\n",
    "cat(\"\\n\")\n",
    "cat(\"medoid_indices:\", sl$medoids)\n",
    "cat(\"\\n\")\n",
    "cat(\"best_td:\", sl$td)"
   ]
  },
  {
   "cell_type": "markdown",
   "metadata": {},
   "source": [
    "### Lloyd_Similar法"
   ]
  },
  {
   "cell_type": "code",
   "execution_count": 32,
   "metadata": {
    "vscode": {
     "languageId": "r"
    }
   },
   "outputs": [
    {
     "name": "stdout",
     "output_type": "stream",
     "text": [
      "  |======================================================================| 100%\n",
      "best solutions:\n",
      "     medoid1 medoid2 medoid3 medoid4     cost\n",
      "[1,]       2      26      28      57 25.71315\n",
      "[2,]       2      26      28      57 25.71315\n",
      "[3,]       2      26      28      57 25.71315\n",
      "[4,]       2      26      28      57 25.71315\n",
      "[5,]       2      26      28      57 25.71315\n",
      "[6,]       2      26      28      57 25.71315\n",
      "[7,]       2      26      28      57 25.71315\n",
      "[8,]       2      26      28      57 25.71315\n",
      "\n",
      "hit probability: 0.08"
     ]
    }
   ],
   "source": [
    "k <- 4 # 聚类个数\n",
    "t <- 100 # 试验次数\n",
    "\n",
    "rc <- matrix(nc = k + 1, nr = t) # 用于记录簇心及簇心距离总和\n",
    "colnames(rc)=c(paste0(\"medoid\",1:k),\"td\")\n",
    "pb <- txtProgressBar(style = 3)\n",
    "for (seed in 1:t) {\n",
    "  rs <- LS(dm, k, seed)\n",
    "  rc[seed, 1:k] <- sort(rs$medoids)\n",
    "  rc[seed, k + 1] <- sort(rs$td)\n",
    "  setTxtProgressBar(pb, seed / t)\n",
    "}\n",
    "\n",
    "cat(\"\\n\")\n",
    "cat(\"best solutions:\")\n",
    "cat(\"\\n\")\n",
    "print(rc[rc[, k + 1] == min(rc[, k + 1]), ])   #最优解\n",
    "\n",
    "bc <- table(rc[, k + 1])[1]\n",
    "cat(\"\\n\")\n",
    "cat(paste0(\"hit probability: \", bc / t))     #最优解命中率"
   ]
  },
  {
   "cell_type": "markdown",
   "metadata": {},
   "source": [
    "### Exchange法"
   ]
  },
  {
   "cell_type": "code",
   "execution_count": 20,
   "metadata": {
    "vscode": {
     "languageId": "r"
    }
   },
   "outputs": [
    {
     "name": "stdout",
     "output_type": "stream",
     "text": [
      "  |======================================================================| 100%\n",
      "\n",
      "best medoids: (11, 45, 61, 67)\n",
      "best td: 23.1397041438685\n",
      "hit probability: 0.28"
     ]
    },
    {
     "data": {
      "image/png": "[encoded data removed]",
      "text/plain": [
       "Plot with title \"Distribution of Solution\""
      ]
     },
     "metadata": {
      "image/png": {
       "height": 420,
       "width": 420
      }
     },
     "output_type": "display_data"
    }
   ],
   "source": [
    "k <- 4 # 聚类个数\n",
    "T <- 100 # 试验次数\n",
    "td_r <- vector(length = T) # 用于记录每次试验的结果\n",
    "rc <- matrix(nr = T, nc = k + 1)\n",
    "\n",
    "pb <- txtProgressBar(style = 3)\n",
    "for (seed in 1:T) {\n",
    "  sl <- exchange(dm, k, seed) # sl-solution\n",
    "\n",
    "  rc[seed, 1] <- sl$td\n",
    "  rc[seed, 2:(k + 1)] <- sl$medoids\n",
    "  setTxtProgressBar(pb, seed / T)\n",
    "}\n",
    "\n",
    "id <- which.min(rc[, 1])\n",
    "cat(\"\\n\")\n",
    "bc <- table(rc[, 1])[1]\n",
    "cat(\"\\n\")\n",
    "cat(paste0(\"best medoids: (\", toString(rc[id, 2:(k + 1)]), \")\"))\n",
    "cat(\"\\n\")\n",
    "cat(paste0(\"best td: \", names(bc)))\n",
    "cat(\"\\n\")\n",
    "cat(paste0(\"hit probability: \", bc / T))    #最优解命中率\n",
    "hist(rc[, 1] ,100, labels = TRUE,xlab = \"td\", main = \"Distribution of Solution\")"
   ]
  },
  {
   "cell_type": "markdown",
   "metadata": {},
   "source": [
    "### Build-Swap法"
   ]
  },
  {
   "cell_type": "code",
   "execution_count": null,
   "metadata": {
    "vscode": {
     "languageId": "r"
    }
   },
   "outputs": [
    {
     "name": "stdout",
     "output_type": "stream",
     "text": [
      "pamBS Algorithm solutuion\n",
      "medoid_indices: 11 45 61 67\n",
      "best_dissimilarity: 23.1397"
     ]
    }
   ],
   "source": [
    "m <- 4  #聚类的个数\n",
    "sseR <- NULL\n",
    "\n",
    "# build phase\n",
    "s <- which.min(rowSums(dm))\n",
    "while (length(s) < m) {\n",
    "  ri <- matrix(nc = 2, nr = 0) # 用于记录点i的情况\n",
    "  for (i in (1:n)[-s]) {\n",
    "    gi <- 0\n",
    "    for (j in (1:n)[-c(s, i)]) {\n",
    "      gi <- gi + max(min(dm[j, s]) - dm[j, i], 0)\n",
    "    }\n",
    "    ri <- rbind(ri, matrix(c(i, gi), nc = 2, byrow = TRUE))\n",
    "  }\n",
    "  s <- c(s, ri[which.max(ri[, 2]), 1])\n",
    "}\n",
    "sse <- 0\n",
    "# 计算簇心集s的sse\n",
    "for (u in 1:m) {\n",
    "  h <- s[-u]\n",
    "  b <- TRUE # 到u类最近的点\n",
    "  for (v in h) {\n",
    "    b <- (b & (dm[, s[u]] < dm[, v]))\n",
    "  }\n",
    "  sse <- sse + sum(dm[b, s[u]])\n",
    "}\n",
    "sseR <- c(sseR, sse)\n",
    "\n",
    "# swap phase\n",
    "repeat{\n",
    "  T <- matrix(0, nc = n, nr = n)\n",
    "  for (i in s) {\n",
    "    for (h in (1:n)[-s]) {\n",
    "      for (j in (1:n)[-c(s, h)]) {\n",
    "        if (dm[j, i] > min(dm[j, s])) {\n",
    "          if (dm[j, h] < min(dm[j, s])) {\n",
    "            k <- dm[j, h] - min(dm[j, s])\n",
    "          } else {\n",
    "            k <- 0\n",
    "          }\n",
    "        } else {\n",
    "          if (dm[j, h] < min(dm[j, s[-i]])) {\n",
    "            k <- dm[j, h] - min(dm[j, s])\n",
    "          } else {\n",
    "            k <- dm[j, h] - min(dm[j, s[-i]])\n",
    "          }\n",
    "        }\n",
    "        T[i, h] <- T[i, h] + k\n",
    "      }\n",
    "    }\n",
    "  }\n",
    "\n",
    "  if (min(T) >= 0) {\n",
    "    break\n",
    "  } else {\n",
    "    id <- which(T == min(T), arr.ind = TRUE)\n",
    "    s[s == id[1]] <- id[2]\n",
    "    sse <- 0\n",
    "    # 计算簇心集s的sse\n",
    "    for (u in 1:m) {\n",
    "      h <- s[-u]\n",
    "      b <- TRUE # 到u类最近的点\n",
    "      for (v in h) {\n",
    "        b <- (b & (dm[, s[u]] < dm[, v]))\n",
    "      }\n",
    "      sse <- sse + sum(dm[b, s[u]])\n",
    "    }\n",
    "    sseR <- c(sseR, sse)\n",
    "  }\n",
    "}\n",
    "\n",
    "cat(\"pamBS Algorithm solutuion\")\n",
    "cat(\"\\n\")\n",
    "cat(\"medoid_indices:\", sort(s))\n",
    "cat(\"\\n\")\n",
    "cat(\"best_td:\", sse)"
   ]
  },
  {
   "cell_type": "markdown",
   "metadata": {},
   "source": [
    "### ClusterR包"
   ]
  },
  {
   "cell_type": "code",
   "execution_count": null,
   "metadata": {
    "vscode": {
     "languageId": "r"
    }
   },
   "outputs": [
    {
     "name": "stdout",
     "output_type": "stream",
     "text": [
      "package ClusterR solutuion\n",
      "medoid_indices: 11 45 63 85\n",
      "best_dissimilarity: 23.37088"
     ]
    }
   ],
   "source": [
    "library(ClusterR)\n",
    "\n",
    "k <- 4   #聚类的个数\n",
    "cm <- Cluster_Medoids(x, k, distance_metric = \"euclidean\")\n",
    "\n",
    "cat(\"package ClusterR solutuion\")\n",
    "cat(\"\\n\")\n",
    "cat(\"medoid_indices:\", sort(cm$medoid_indices))\n",
    "cat(\"\\n\")\n",
    "cat(\"best_td:\", cm$best_td)"
   ]
  },
  {
   "cell_type": "markdown",
   "metadata": {},
   "source": [
    "### cluster包"
   ]
  },
  {
   "cell_type": "code",
   "execution_count": null,
   "metadata": {
    "vscode": {
     "languageId": "r"
    }
   },
   "outputs": [
    {
     "name": "stdout",
     "output_type": "stream",
     "text": [
      "package cluster solutuion\n",
      "medoid_indices: 11 45 63 85\n",
      "best_dissimilarity: 23.37088"
     ]
    }
   ],
   "source": [
    "library(cluster)\n",
    "\n",
    "k <- 4   #聚类的个数\n",
    "pm <- pam(x, k, metric = \"euclidean\")\n",
    "\n",
    "cat(\"package cluster solutuion\")\n",
    "cat(\"\\n\")\n",
    "cat(\"medoid_indices:\", sort(pm$id.med))\n",
    "cat(\"\\n\")\n",
    "cat(\"best_td:\", n * pm$objective[2])"
   ]
  },
  {
   "cell_type": "markdown",
   "metadata": {},
   "source": [
    "### fastkmedoids包"
   ]
  },
  {
   "cell_type": "code",
   "execution_count": 44,
   "metadata": {
    "vscode": {
     "languageId": "r"
    }
   },
   "outputs": [
    {
     "name": "stdout",
     "output_type": "stream",
     "text": [
      "pam(package fastkmedoids) solutuion:"
     ]
    },
    {
     "name": "stdout",
     "output_type": "stream",
     "text": [
      "\n",
      "medoid_indices: 11 45 63 85\n",
      "best_cost: 23.37088"
     ]
    }
   ],
   "source": [
    "library(fastkmedoids)\n",
    "pm <- pam(dv,100,4)\n",
    "\n",
    "cat(\"pam(package fastkmedoids) solutuion:\")\n",
    "cat(\"\\n\")\n",
    "cat(\"medoid_indices:\", sort(pm@medoids)+1)\n",
    "cat(\"\\n\")\n",
    "cat(\"best_td:\", pm@td)"
   ]
  },
  {
   "cell_type": "code",
   "execution_count": 45,
   "metadata": {
    "vscode": {
     "languageId": "r"
    }
   },
   "outputs": [
    {
     "name": "stdout",
     "output_type": "stream",
     "text": [
      "fastpam(package fastkmedoids) solutuion:\n",
      "medoid_indices: 11 45 63 85\n",
      "best_cost: 23.37088"
     ]
    }
   ],
   "source": [
    "library(fastkmedoids)\n",
    "fp <- fastpam(dv,100,4)\n",
    "\n",
    "cat(\"fastpam(package fastkmedoids) solutuion:\")\n",
    "cat(\"\\n\")\n",
    "cat(\"medoid_indices:\", sort(fp@medoids)+1)\n",
    "cat(\"\\n\")\n",
    "cat(\"best_td:\", fp@td)"
   ]
  },
  {
   "cell_type": "markdown",
   "metadata": {},
   "source": [
    "## k=5\n",
    "\n",
    "可见此时Exchange法、Build-Swap法、ClusterR包算法未能找到最优解"
   ]
  },
  {
   "cell_type": "code",
   "execution_count": null,
   "metadata": {
    "vscode": {
     "languageId": "r"
    }
   },
   "outputs": [],
   "source": [
    "library(ClusterR)\n",
    "\n",
    "# 数据生成\n",
    "n <- 100 # 数据量\n",
    "set.seed(3)\n",
    "x <- rbind(\n",
    "  matrix(rnorm(n, sd = 0.25), ncol = 2),\n",
    "  matrix(rnorm(n, mean = 1, sd = 0.25), ncol = 2)\n",
    ")\n",
    "# 距离方阵\n",
    "dm <- distance_matrix(x, upper = TRUE, diagonal = TRUE)"
   ]
  },
  {
   "cell_type": "markdown",
   "metadata": {},
   "source": [
    "### Exhaust法"
   ]
  },
  {
   "cell_type": "code",
   "execution_count": null,
   "metadata": {
    "vscode": {
     "languageId": "r"
    }
   },
   "outputs": [],
   "source": [
    "k <- 5   #聚类的个数\n",
    "\n",
    "ss <- combn(n, k) # 可能的medoids组合\n",
    "m <- ncol(ss) # 可能的medoids组合个数\n",
    "\n",
    "sseRC <- rep(Inf, m)\n",
    "pb <- txtProgressBar(style = 3)\n",
    "for (i in (1:m)) {\n",
    "  s <- ss[, i]\n",
    "  # 计算簇心集s的sse\n",
    "  sse <- 0\n",
    "  for (u in 1:k) {\n",
    "    h <- s[-u]\n",
    "    b <- TRUE # 到u类最近的点\n",
    "    for (v in h) {\n",
    "      b <- (b & (dm[, s[u]] < dm[, v]))\n",
    "    }\n",
    "    sse <- sse + sum(dm[b, s[u]])\n",
    "  }\n",
    "  sseRC[i] <- sse\n",
    "  setTxtProgressBar(pb, i / m)\n",
    "}\n",
    "\n",
    "id <- which.min(sseRC)\n",
    "cat(\"\\n\")\n",
    "cat(\"Exhaust Algorithm solutuion\")\n",
    "cat(\"\\n\")\n",
    "cat(\"medoid_indices:\", ss[, id])\n",
    "cat(\"\\n\")\n",
    "cat(\"best_td:\", sseRC[id])\n",
    "\n",
    "#计算非常慢，难以忍受\n",
    "#Exhaust Algorithm solutuion\n",
    "#medoid_indices: 11 45 70 75 90\n",
    "#best_td: 20.61164"
   ]
  },
  {
   "cell_type": "markdown",
   "metadata": {},
   "source": [
    "### Lloyd_Similar法"
   ]
  },
  {
   "cell_type": "code",
   "execution_count": 33,
   "metadata": {
    "vscode": {
     "languageId": "r"
    }
   },
   "outputs": [
    {
     "name": "stdout",
     "output_type": "stream",
     "text": [
      "  |======================================================================| 100%\n",
      "best solutions:\n",
      " medoid1  medoid2  medoid3  medoid4  medoid5     cost \n",
      "11.00000 28.00000 38.00000 82.00000 94.00000 21.35014 \n",
      "\n",
      "hit probability: 0.01"
     ]
    }
   ],
   "source": [
    "k <- 5 # 聚类个数\n",
    "t <- 100 # 试验次数\n",
    "\n",
    "rc <- matrix(nc = k + 1, nr = t) # 用于记录簇心及簇心距离总和\n",
    "colnames(rc)=c(paste0(\"medoid\",1:k),\"td\")\n",
    "pb <- txtProgressBar(style = 3)\n",
    "for (seed in 1:t) {\n",
    "  rs <- LS(dm, k, seed)\n",
    "  rc[seed, 1:k] <- sort(rs$medoids)\n",
    "  rc[seed, k + 1] <- sort(rs$td)\n",
    "  setTxtProgressBar(pb, seed / t)\n",
    "}\n",
    "\n",
    "cat(\"\\n\")\n",
    "cat(\"best solutions:\")\n",
    "cat(\"\\n\")\n",
    "print(rc[rc[, k + 1] == min(rc[, k + 1]), ])   #最优解\n",
    "\n",
    "bc <- table(rc[, k + 1])[1]\n",
    "cat(\"\\n\")\n",
    "cat(paste0(\"hit probability: \", bc / t))     #最优解命中率"
   ]
  },
  {
   "cell_type": "markdown",
   "metadata": {},
   "source": [
    "### Exchange法"
   ]
  },
  {
   "cell_type": "code",
   "execution_count": 21,
   "metadata": {
    "vscode": {
     "languageId": "r"
    }
   },
   "outputs": [
    {
     "name": "stdout",
     "output_type": "stream",
     "text": [
      "  |======================================================================| 100%\n",
      "\n",
      "best medoids: (11, 45, 70, 75, 90)\n",
      "best td: 20.6116425414116\n",
      "hit probability: 0.62"
     ]
    },
    {
     "data": {
      "image/png": "[encoded data removed]",
      "text/plain": [
       "Plot with title \"Distribution of Solution\""
      ]
     },
     "metadata": {
      "image/png": {
       "height": 420,
       "width": 420
      }
     },
     "output_type": "display_data"
    }
   ],
   "source": [
    "k <- 5 # 聚类个数\n",
    "T <- 100 # 试验次数\n",
    "td_r <- vector(length = T) # 用于记录每次试验的结果\n",
    "rc <- matrix(nr = T, nc = k + 1)\n",
    "\n",
    "pb <- txtProgressBar(style = 3)\n",
    "for (seed in 1:T) {\n",
    "  sl <- exchange(dm, k, seed) # sl-solution\n",
    "\n",
    "  rc[seed, 1] <- sl$td\n",
    "  rc[seed, 2:(k + 1)] <- sl$medoids\n",
    "  setTxtProgressBar(pb, seed / T)\n",
    "}\n",
    "\n",
    "id <- which.min(rc[, 1])\n",
    "cat(\"\\n\")\n",
    "bc <- table(rc[, 1])[1]\n",
    "cat(\"\\n\")\n",
    "cat(paste0(\"best medoids: (\", toString(rc[id, 2:(k + 1)]), \")\"))\n",
    "cat(\"\\n\")\n",
    "cat(paste0(\"best td: \", names(bc)))\n",
    "cat(\"\\n\")\n",
    "cat(paste0(\"hit probability: \", bc / T))     #最优解命中率\n",
    "hist(rc[, 1] ,100, labels = TRUE,xlab = \"td\", main = \"Distribution of Solution\")"
   ]
  },
  {
   "cell_type": "markdown",
   "metadata": {},
   "source": [
    "### Build-Swap法"
   ]
  },
  {
   "cell_type": "code",
   "execution_count": null,
   "metadata": {
    "vscode": {
     "languageId": "r"
    }
   },
   "outputs": [
    {
     "name": "stdout",
     "output_type": "stream",
     "text": [
      "pamBS Algorithm solutuion\n",
      "medoid_indices: 11 45 62 72 79\n",
      "best_dissimilarity: 21.0301"
     ]
    }
   ],
   "source": [
    "m <- 5  #聚类的个数\n",
    "sseR <- NULL\n",
    "\n",
    "# build phase\n",
    "s <- which.min(rowSums(dm))\n",
    "while (length(s) < m) {\n",
    "  ri <- matrix(nc = 2, nr = 0) # 用于记录点i的情况\n",
    "  for (i in (1:n)[-s]) {\n",
    "    gi <- 0\n",
    "    for (j in (1:n)[-c(s, i)]) {\n",
    "      gi <- gi + max(min(dm[j, s]) - dm[j, i], 0)\n",
    "    }\n",
    "    ri <- rbind(ri, matrix(c(i, gi), nc = 2, byrow = TRUE))\n",
    "  }\n",
    "  s <- c(s, ri[which.max(ri[, 2]), 1])\n",
    "}\n",
    "sse <- 0\n",
    "# 计算簇心集s的sse\n",
    "for (u in 1:m) {\n",
    "  h <- s[-u]\n",
    "  b <- TRUE # 到u类最近的点\n",
    "  for (v in h) {\n",
    "    b <- (b & (dm[, s[u]] < dm[, v]))\n",
    "  }\n",
    "  sse <- sse + sum(dm[b, s[u]])\n",
    "}\n",
    "sseR <- c(sseR, sse)\n",
    "\n",
    "# swap phase\n",
    "repeat{\n",
    "  T <- matrix(0, nc = n, nr = n)\n",
    "  for (i in s) {\n",
    "    for (h in (1:n)[-s]) {\n",
    "      for (j in (1:n)[-c(s, h)]) {\n",
    "        if (dm[j, i] > min(dm[j, s])) {\n",
    "          if (dm[j, h] < min(dm[j, s])) {\n",
    "            k <- dm[j, h] - min(dm[j, s])\n",
    "          } else {\n",
    "            k <- 0\n",
    "          }\n",
    "        } else {\n",
    "          if (dm[j, h] < min(dm[j, s[-i]])) {\n",
    "            k <- dm[j, h] - min(dm[j, s])\n",
    "          } else {\n",
    "            k <- dm[j, h] - min(dm[j, s[-i]])\n",
    "          }\n",
    "        }\n",
    "        T[i, h] <- T[i, h] + k\n",
    "      }\n",
    "    }\n",
    "  }\n",
    "\n",
    "  if (min(T) >= 0) {\n",
    "    break\n",
    "  } else {\n",
    "    id <- which(T == min(T), arr.ind = TRUE)\n",
    "    s[s == id[1]] <- id[2]\n",
    "    sse <- 0\n",
    "    # 计算簇心集s的sse\n",
    "    for (u in 1:m) {\n",
    "      h <- s[-u]\n",
    "      b <- TRUE # 到u类最近的点\n",
    "      for (v in h) {\n",
    "        b <- (b & (dm[, s[u]] < dm[, v]))\n",
    "      }\n",
    "      sse <- sse + sum(dm[b, s[u]])\n",
    "    }\n",
    "    sseR <- c(sseR, sse)\n",
    "  }\n",
    "}\n",
    "\n",
    "cat(\"pamBS Algorithm solutuion\")\n",
    "cat(\"\\n\")\n",
    "cat(\"medoid_indices:\", sort(s))\n",
    "cat(\"\\n\")\n",
    "cat(\"best_td:\", sse)"
   ]
  },
  {
   "cell_type": "markdown",
   "metadata": {},
   "source": [
    "### ClusterR包"
   ]
  },
  {
   "cell_type": "code",
   "execution_count": 8,
   "metadata": {
    "vscode": {
     "languageId": "r"
    }
   },
   "outputs": [
    {
     "name": "stderr",
     "output_type": "stream",
     "text": [
      "Warning message:\n",
      "\"\u001b[1m\u001b[22mThe `seed` argument of `Cluster_Medoids()` is deprecated as of ClusterR 1.2.6.\n",
      "\u001b[36mℹ\u001b[39m The 'seed' parameter will be removed in version 1.4.0\"\n"
     ]
    },
    {
     "ename": "ERROR",
     "evalue": "Error in eval(expr, envir, enclos): Not compatible with requested type: [type=character; target=integer].\n",
     "output_type": "error",
     "traceback": [
      "Error in eval(expr, envir, enclos): Not compatible with requested type: [type=character; target=integer].\nTraceback:\n",
      "1. Cluster_Medoids(x, k, seed = \"euclidean\")",
      "2. ClusterMedoids(data, clusters, distance_metric, minkowski_p, \n .     threads, verbose, swap_phase, fuzzy, seed)"
     ]
    }
   ],
   "source": [
    "library(ClusterR)\n",
    "\n",
    "k <- 5   #聚类的个数\n",
    "cm <- Cluster_Medoids(x, k, seed = \"euclidean\")\n",
    "\n",
    "cat(\"package ClusterR solutuion\")\n",
    "cat(\"\\n\")\n",
    "cat(\"medoid_indices:\", sort(cm$medoid_indices))\n",
    "cat(\"\\n\")\n",
    "cat(\"best_td:\", cm$best_td)"
   ]
  },
  {
   "cell_type": "markdown",
   "metadata": {},
   "source": [
    "### cluster包"
   ]
  },
  {
   "cell_type": "code",
   "execution_count": null,
   "metadata": {
    "vscode": {
     "languageId": "r"
    }
   },
   "outputs": [
    {
     "name": "stdout",
     "output_type": "stream",
     "text": [
      "package cluster solutuion\n",
      "medoid_indices: 11 45 70 75 90\n",
      "best_dissimilarity: 20.61164"
     ]
    }
   ],
   "source": [
    "library(cluster)\n",
    "\n",
    "k <- 5   #聚类的个数\n",
    "pm <- pam(x, k, metric = \"euclidean\")\n",
    "\n",
    "cat(\"package cluster solutuion\")\n",
    "cat(\"\\n\")\n",
    "cat(\"medoid_indices:\", sort(pm$id.med))\n",
    "cat(\"\\n\")\n",
    "cat(\"best_td:\", n * pm$objective[2])"
   ]
  },
  {
   "cell_type": "markdown",
   "metadata": {},
   "source": [
    "### fastkmedoids包"
   ]
  },
  {
   "cell_type": "code",
   "execution_count": 47,
   "metadata": {
    "vscode": {
     "languageId": "r"
    }
   },
   "outputs": [
    {
     "name": "stdout",
     "output_type": "stream",
     "text": [
      "pam(package fastkmedoids) solutuion:\n",
      "medoid_indices: 11 45 70 75 90\n",
      "best_cost: 20.61164"
     ]
    }
   ],
   "source": [
    "library(fastkmedoids)\n",
    "pm <- pam(dv,100,5)\n",
    "\n",
    "cat(\"pam(package fastkmedoids) solutuion:\")\n",
    "cat(\"\\n\")\n",
    "cat(\"medoid_indices:\", sort(pm@medoids)+1)\n",
    "cat(\"\\n\")\n",
    "cat(\"best_td:\", pm@td)"
   ]
  },
  {
   "cell_type": "code",
   "execution_count": 46,
   "metadata": {
    "vscode": {
     "languageId": "r"
    }
   },
   "outputs": [
    {
     "name": "stdout",
     "output_type": "stream",
     "text": [
      "fastpam(package fastkmedoids) solutuion:"
     ]
    },
    {
     "name": "stdout",
     "output_type": "stream",
     "text": [
      "\n",
      "medoid_indices: 11 45 70 75 90\n",
      "best_cost: 20.61164"
     ]
    }
   ],
   "source": [
    "library(fastkmedoids)\n",
    "fp <- fastpam(dv,100,5)\n",
    "\n",
    "cat(\"fastpam(package fastkmedoids) solutuion:\")\n",
    "cat(\"\\n\")\n",
    "cat(\"medoid_indices:\", sort(fp@medoids)+1)\n",
    "cat(\"\\n\")\n",
    "cat(\"best_td:\", fp@td)"
   ]
  },
  {
   "cell_type": "markdown",
   "metadata": {},
   "source": [
    "## 结果汇总\n",
    "\n",
    "数字中加粗的为最优解\n",
    "\n",
    "- 可见Exchange、Lloyd_Similar和B-S算法均是局部最优算法，不能保证获得最优解\n",
    "- 但穷举法耗时过长，时间复杂度为$O(n!)$"
   ]
  },
  {
   "cell_type": "markdown",
   "metadata": {},
   "source": [
    "|                               | K=2      | K=3        | K=4          | K=5                |\n",
    "| ----------------------------- | -------- | ---------- | ------------ | ------------------ |\n",
    "| **Exhaust**                  |          |            |              |                    |\n",
    "| medoids                | **20 57**    | **20 61 67**   | **11 45 61 67** | **11 45 70 75 90** |\n",
    "| td            | **31.8649** | **27.2827**   | **23.1397**      | **20.6116** |\n",
    "| **Lloyd_Similar** | 100Test(1.0) | 100Test(0.09) | 100Test(0.08) | 100Test(0.01) |\n",
    "| medoids | **20 57** | 6      26      57 | 2      26      28      57 | 11  28  38 82  94 |\n",
    "| td | **31.8649** | 28.15211 | 25.71315 | 21.35014 |\n",
    "| **Exchange**                  | 100Test(1.0)| 100Test(0.16)|100Test(0.28)|100Test(0.62)|\n",
    "| medoids                | **20 57**    | **20 61 67**|**11 45 61 67**| **11 45 70 75 90**|\n",
    "| td            | **31.8649** | **27.2827**   | **23.1397**      |**20.6116**|\n",
    "| **B-S(自我实现)**                     |          |            |              |                    |\n",
    "| medoids                | **20 57**    | **20 61 67**   | 11 45 61 67  | 11 45 62 72 79     |\n",
    "| td            | **31.8649** | **27.2827**   | **23.1397**      | 21.0301            |\n",
    "| **B-S(ClusterR)** |          |            |              |                    |\n",
    "| medoids                | **25 57** | 11 45 57   | 11 45 63 85  | 11 45 56 61 63     |\n",
    "| td            | **31.97467** | 27.7218   | 23.3708     | 21.2476           |\n",
    "| **B-S(cluster)** |          |            |              |                    |\n",
    "| medoids                | **20 57**    | 11 45 57   | 11 45 63 85  | **11 45 70 75 90**     |\n",
    "| td            | **31.8649** | 27.7218   | 23.3708     | **20.6116**           |\n",
    "| **B-S(fastkmedoids)** |  |  |  |  |\n",
    "| medoids | **20 57** | 11 45 57 | 11 45 63 85 | **11 45 70 75 90** |\n",
    "| td | **31.8649** | 27.7218 | 23.3708 | **20.6116** |\n",
    "| **fast B-S(fastkmedoids)** |  |  |  |  |\n",
    "| medoids | **20 57** | 11 45 57 | 11 45 63 85 | **11 45 70 75 90** |\n",
    "| td | **31.8649** | 27.7218 | 23.3708 | **20.6116** |\n",
    "| **B-S(matlab自带)** |          |            |              |                    |\n",
    "| medoids                | **20  57**   | **20 61 67**   | 11 45 63 85  | **11 45 70 75 90**     |\n",
    "| td            | **31.8649**  | **27.2827**   | 23.3709      | **20.6116**            |\n",
    "| **B-S(sklearn)** |          |            |              |                    |\n",
    "| medoids                | **20  57** | 11, 45, 57 | 6, 8, 11, 57 | 11, 34, 45, 61, 67 |\n",
    "| td            | **31.8649**  | 27.7218   | 25.4060     | 21.2282           |"
   ]
  }
 ],
 "metadata": {
  "kernelspec": {
   "display_name": "R",
   "language": "R",
   "name": "ir"
  },
  "language_info": {
   "codemirror_mode": "r",
   "file_extension": ".r",
   "mimetype": "text/x-r-source",
   "name": "R",
   "pygments_lexer": "r",
   "version": "4.3.2"
  },
  "widgets": {
   "application/vnd.jupyter.widget-state+json": {
    "state": {},
    "version_major": 2,
    "version_minor": 0
   }
  }
 },
 "nbformat": 4,
 "nbformat_minor": 4
}
